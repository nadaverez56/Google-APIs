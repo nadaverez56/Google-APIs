{
 "cells": [
  {
   "cell_type": "markdown",
   "metadata": {},
   "source": [
    "# Intro to DS - Assignment 4 - Google API's\n",
    "### By: Nadav Erez"
   ]
  },
  {
   "cell_type": "markdown",
   "metadata": {},
   "source": [
    "For this assignment, we make use of the following libraries:\n",
    "**requests, json, regex, pandas**"
   ]
  },
  {
   "cell_type": "code",
   "execution_count": 15,
   "metadata": {},
   "outputs": [
    {
     "name": "stdout",
     "output_type": "stream",
     "text": [
      "['איסטנבול', 'אמסטרדם', 'ולטה', 'בזל', 'קוטור']\n"
     ]
    }
   ],
   "source": [
    "import requests, json\n",
    "cities=''\n",
    "with open('dests.txt','r',encoding = 'utf8') as file:\n",
    "    cities = file.read().splitlines()\n",
    "print(cities)"
   ]
  },
  {
   "cell_type": "code",
   "execution_count": 9,
   "metadata": {},
   "outputs": [],
   "source": [
    "API_KEY='API_KEY_HERE'"
   ]
  },
  {
   "cell_type": "code",
   "execution_count": 10,
   "metadata": {
    "scrolled": true
   },
   "outputs": [],
   "source": [
    "\n",
    "url_distance ='https://maps.googleapis.com/maps/api/distancematrix/json?units=metric&'\n",
    "origin ='Tel Aviv'\n",
    "dict_destinations={}\n",
    "farthest=[] \n",
    "for dest in cities:  \n",
    "    response_distance = requests.get(url_distance + \"origins=\" + origin + \"&destinations=\" + dest + \"&key=\" + API_KEY)\n",
    "    distance = response_distance.json()[\"rows\"][0][\"elements\"][0][\"distance\"][\"text\"]\n",
    "    duration = response_distance.json()[\"rows\"][0][\"elements\"][0][\"duration\"][\"text\"]\n",
    "    farthest.append(distance)\n",
    "    address = dest\n",
    "    url_geo ='https://maps.googleapis.com/maps/api/geocode/json?address=%s&key=%s' % (address, API_KEY)\n",
    "    response_geo = requests.get(url_geo)\n",
    "    latitude = response_geo.json()['results'][0]['geometry']['location']['lat']\n",
    "    longitude = response_geo.json()['results'][0]['geometry']['location']['lng']   \n",
    "    detailsPerCity = (distance, duration) + (latitude, longitude) \n",
    "    dict_destinations[dest] = detailsPerCity # dictionary with cities as keys and tuples as values"
   ]
  },
  {
   "cell_type": "markdown",
   "metadata": {},
   "source": [
    "**Cities - Distance, Duration, Latitude & Longitude:**"
   ]
  },
  {
   "cell_type": "code",
   "execution_count": 11,
   "metadata": {},
   "outputs": [
    {
     "name": "stdout",
     "output_type": "stream",
     "text": [
      "איסטנבול: \n",
      "('1,815 km', '20 hours 32 mins', 41.0082376, 28.9783589)\n",
      "אמסטרדם: \n",
      "('4,528 km', '1 day 23 hours', 52.3675734, 4.9041389)\n",
      "ולטה: \n",
      "('3,795 km', '2 days 3 hours', 35.8989085, 14.5145528)\n",
      "בזל: \n",
      "('4,092 km', '1 day 20 hours', 47.5595986, 7.5885761)\n",
      "קוטור: \n",
      "('3,015 km', '1 day 12 hours', 42.424662, 18.771234)\n"
     ]
    }
   ],
   "source": [
    " for key in dict_destinations:  \n",
    "    print(key+': ')\n",
    "    print(dict_destinations[key])"
   ]
  },
  {
   "cell_type": "code",
   "execution_count": 12,
   "metadata": {},
   "outputs": [
    {
     "name": "stdout",
     "output_type": "stream",
     "text": [
      "['1815', '4528', '3795', '4092', '3015']\n"
     ]
    }
   ],
   "source": [
    "import re\n",
    "distances_list = [] \n",
    "distance_patt = re.compile(r\"([^km]+)\") # regex pattern for finding string in list ('km') and removing it:\n",
    "for i in farthest:\n",
    "    include_km = distance_patt.search(i)\n",
    "    if include_km:\n",
    "        distances_list.append(i[include_km.span()[0]:include_km.span()[1]].replace(' ','').replace(',',''))\n",
    "print(distances_list)"
   ]
  },
  {
   "cell_type": "code",
   "execution_count": 13,
   "metadata": {},
   "outputs": [
    {
     "name": "stdout",
     "output_type": "stream",
     "text": [
      "['איסטנבול', 'אמסטרדם', 'ולטה', 'בזל', 'קוטור']\n"
     ]
    }
   ],
   "source": [
    "distances_list = [int(i) for i in distances_list] # converting to integers\n",
    "keys_list = list(dict_destinations.keys())\n",
    "print(keys_list)"
   ]
  },
  {
   "cell_type": "code",
   "execution_count": 14,
   "metadata": {},
   "outputs": [],
   "source": [
    "import pandas as pd\n",
    "dict_cityAndDistance = {'City':keys_list, 'Distance':distances_list}\n",
    "df = pd.DataFrame(dict_cityAndDistance)\n",
    "df.sort_values(by = ['Distance'], inplace=True, ascending=False)"
   ]
  },
  {
   "cell_type": "markdown",
   "metadata": {},
   "source": [
    "**Farthest cities from Tel Aviv are as the following:**"
   ]
  },
  {
   "cell_type": "code",
   "execution_count": 219,
   "metadata": {},
   "outputs": [
    {
     "data": {
      "text/html": [
       "<div>\n",
       "<style scoped>\n",
       "    .dataframe tbody tr th:only-of-type {\n",
       "        vertical-align: middle;\n",
       "    }\n",
       "\n",
       "    .dataframe tbody tr th {\n",
       "        vertical-align: top;\n",
       "    }\n",
       "\n",
       "    .dataframe thead th {\n",
       "        text-align: right;\n",
       "    }\n",
       "</style>\n",
       "<table border=\"1\" class=\"dataframe\">\n",
       "  <thead>\n",
       "    <tr style=\"text-align: right;\">\n",
       "      <th></th>\n",
       "      <th>City</th>\n",
       "      <th>Distance</th>\n",
       "    </tr>\n",
       "  </thead>\n",
       "  <tbody>\n",
       "    <tr>\n",
       "      <th>1</th>\n",
       "      <td>אמסטרדם</td>\n",
       "      <td>4528</td>\n",
       "    </tr>\n",
       "    <tr>\n",
       "      <th>3</th>\n",
       "      <td>בזל</td>\n",
       "      <td>4092</td>\n",
       "    </tr>\n",
       "    <tr>\n",
       "      <th>2</th>\n",
       "      <td>ולטה</td>\n",
       "      <td>3795</td>\n",
       "    </tr>\n",
       "  </tbody>\n",
       "</table>\n",
       "</div>"
      ],
      "text/plain": [
       "      City  Distance\n",
       "1  אמסטרדם      4528\n",
       "3      בזל      4092\n",
       "2     ולטה      3795"
      ]
     },
     "execution_count": 219,
     "metadata": {},
     "output_type": "execute_result"
    }
   ],
   "source": [
    "df.head(3)"
   ]
  },
  {
   "cell_type": "markdown",
   "metadata": {},
   "source": []
  }
 ],
 "metadata": {
  "kernelspec": {
   "display_name": "Python 3",
   "language": "python",
   "name": "python3"
  },
  "language_info": {
   "codemirror_mode": {
    "name": "ipython",
    "version": 3
   },
   "file_extension": ".py",
   "mimetype": "text/x-python",
   "name": "python",
   "nbconvert_exporter": "python",
   "pygments_lexer": "ipython3",
   "version": "3.8.5"
  }
 },
 "nbformat": 4,
 "nbformat_minor": 4
}
